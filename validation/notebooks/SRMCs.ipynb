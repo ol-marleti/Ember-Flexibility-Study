{
 "cells": [
  {
   "cell_type": "code",
   "execution_count": null,
   "id": "a07ab369-9240-445c-807b-f48e86791ee9",
   "metadata": {},
   "outputs": [],
   "source": [
    "import pypsa\n",
    "import pandas as pd\n",
    "\n",
    "import matplotlib.pyplot as plt"
   ]
  },
  {
   "cell_type": "code",
   "execution_count": null,
   "id": "b6f55110-b100-4b60-b176-182eb7b87174",
   "metadata": {},
   "outputs": [],
   "source": [
    "n = pypsa.Network(\"../../resources/validation_2023/networks/base_s_39__2190seg_2025.nc\")"
   ]
  },
  {
   "cell_type": "code",
   "execution_count": null,
   "id": "97561213-043a-40cb-ac25-f96f49aa433f",
   "metadata": {},
   "outputs": [],
   "source": [
    "n.generators.query(\"carrier == 'coal'\").marginal_cost.unique()"
   ]
  },
  {
   "cell_type": "code",
   "execution_count": null,
   "id": "9ca9219d-fc0b-4b29-b845-3be514935a6c",
   "metadata": {},
   "outputs": [],
   "source": [
    "coal_SRMC = (\n",
    "    n.links.query(\"carrier in ['coal']\").marginal_cost + (n.generators.query(\"carrier == 'coal'\").marginal_cost.unique()[0]/n.links.query(\"carrier in ['coal']\").efficiency)\n",
    ").values\n",
    "coal_cap = (n.links.query(\"carrier in ['coal']\").p_nom * n.links.query(\"carrier in ['coal']\").efficiency).values\n",
    "\n",
    "lignite_SRMC = (\n",
    "    n.links.query(\"carrier in ['lignite']\").marginal_cost + (n.generators.query(\"carrier == 'lignite'\").marginal_cost.unique()[0]/n.links.query(\"carrier in ['lignite']\").efficiency)\n",
    ").values\n",
    "lignite_cap = (n.links.query(\"carrier in ['lignite']\").p_nom * n.links.query(\"carrier in ['lignite']\").efficiency).values\n",
    "\n",
    "gas_SRMC = (\n",
    "    n.links.query(\"carrier in ['OCGT', 'CCGT']\").marginal_cost + (n.generators.query(\"carrier == 'gas'\").marginal_cost.unique()[0]/n.links.query(\"carrier in ['OCGT', 'CCGT']\").efficiency)\n",
    ").values\n",
    "gas_cap = (n.links.query(\"carrier in ['OCGT', 'CCGT']\").p_nom * n.links.query(\"carrier in ['OCGT', 'CCGT']\").efficiency).values\n",
    "\n",
    "\n",
    "SRMCs_const = pd.DataFrame([coal_SRMC, coal_cap, gas_SRMC, gas_cap, lignite_SRMC, lignite_cap], index=[\"coal_SRMC\", \"coal_cap\", \"gas_SRMC\", \"gas_cap\", \"lignite_SRMC\", \"lignite_cap\"]).T"
   ]
  },
  {
   "cell_type": "code",
   "execution_count": null,
   "id": "c4fa9374-bcbb-40f8-b7f5-3ff9107acff9",
   "metadata": {},
   "outputs": [],
   "source": [
    "SRMCs_const"
   ]
  },
  {
   "cell_type": "code",
   "execution_count": null,
   "id": "8e2a81c8-8d62-4dbd-9040-faa12f63a4db",
   "metadata": {},
   "outputs": [],
   "source": [
    "n.carriers.loc[[\"gas\", \"coal\", \"lignite\"]]"
   ]
  },
  {
   "cell_type": "code",
   "execution_count": null,
   "id": "ef3e8c94-11d1-4b99-800f-19fcd8a0bf66",
   "metadata": {},
   "outputs": [],
   "source": [
    "plt.hist(SRMCs_const[\"coal_SRMC\"], bins=30, alpha=0.75, color='#545454', label=\"Coal\")\n",
    "plt.hist(SRMCs_const[\"gas_SRMC\"], bins=30, alpha=0.75, color='#e05b09', label=\"Gas\")\n",
    "plt.hist(SRMCs_const[\"lignite_SRMC\"], bins=30, alpha=0.75, color='#826837', label=\"Lignite\")\n",
    "\n",
    "plt.xlabel(\"SRMC [€/MWh]\")\n",
    "plt.ylabel(\"Frequency\")\n",
    "plt.title(\"Distribution of SRMCs\")\n",
    "plt.legend()\n",
    "plt.tight_layout()\n",
    "plt.show()"
   ]
  },
  {
   "cell_type": "code",
   "execution_count": null,
   "id": "e7973b28-1fe1-4fd2-872a-2c4cc9267977",
   "metadata": {},
   "outputs": [],
   "source": [
    "plt.plot(SRMCs_const[\"coal_SRMC\"], SRMCs_const[\"coal_cap\"]/1e3, \"o\", alpha=0.75, color='#545454', label=\"Coal\")\n",
    "plt.plot(SRMCs_const[\"gas_SRMC\"], SRMCs_const[\"gas_cap\"]/1e3, \"o\", alpha=0.5, color='#e05b09', label=\"Gas\")\n",
    "plt.plot(SRMCs_const[\"lignite_SRMC\"], SRMCs_const[\"lignite_cap\"]/1e3, \"o\", alpha=0.75, color='#826837', label=\"Lignite\")\n",
    "\n",
    "plt.xlabel(\"SRMC [€/MWh]\")\n",
    "plt.ylabel(\"Capacity [GW]\")\n",
    "plt.legend()\n",
    "plt.tight_layout()\n",
    "plt.show()"
   ]
  },
  {
   "cell_type": "code",
   "execution_count": null,
   "id": "dff0e910-e229-4587-affc-b08ac59fd1fe",
   "metadata": {},
   "outputs": [],
   "source": [
    "effs = n.links.query(\"carrier == 'coal'\").efficiency\n",
    "coal_SRMC_t = pd.DataFrame(\n",
    "    {\n",
    "        link: n.links.at[link, \"marginal_cost\"] + n.generators_t.marginal_cost[\"EU coal\"] / effs.at[link]\n",
    "        for link in effs.index\n",
    "    },\n",
    "    index=n.snapshots\n",
    ")\n",
    "\n",
    "effs = n.links.query(\"carrier in ['OCGT', 'CCGT']\").efficiency\n",
    "gas_SRMC_t = pd.DataFrame(\n",
    "    {\n",
    "        link: n.links.at[link, \"marginal_cost\"] + n.generators_t.marginal_cost[\"EU gas\"] / effs.at[link]\n",
    "        for link in effs.index\n",
    "    },\n",
    "    index=n.snapshots\n",
    ")"
   ]
  },
  {
   "cell_type": "code",
   "execution_count": null,
   "id": "dda314e0-910b-4bbf-b3e8-f1540109271a",
   "metadata": {},
   "outputs": [],
   "source": [
    "n.carriers.loc[\"coal\"]"
   ]
  },
  {
   "cell_type": "code",
   "execution_count": null,
   "id": "c9958f1b-0c0e-4bd5-85d1-d867b99dcfcc",
   "metadata": {},
   "outputs": [],
   "source": [
    "fig,ax=plt.subplots()\n",
    "\n",
    "gas_SRMC_t.plot(color=\"#e05b09\", legend=False, ax=ax)\n",
    "coal_SRMC_t.plot(color=\"#545454\", legend=False, ax=ax)"
   ]
  },
  {
   "cell_type": "code",
   "execution_count": null,
   "id": "b35a7de8-8faf-43e1-870f-0a27c7d09857",
   "metadata": {},
   "outputs": [],
   "source": [
    "n.generators.loc[[\"EU gas\", \"EU coal\"]].marginal_cost"
   ]
  },
  {
   "cell_type": "code",
   "execution_count": null,
   "id": "bff8dc36-5ef6-4292-8e48-86b907c3711d",
   "metadata": {},
   "outputs": [],
   "source": [
    "n.carriers.loc[[\"gas\", \"coal\"]]"
   ]
  }
 ],
 "metadata": {
  "kernelspec": {
   "display_name": "Python 3 (ipykernel)",
   "language": "python",
   "name": "python3"
  },
  "language_info": {
   "codemirror_mode": {
    "name": "ipython",
    "version": 3
   },
   "file_extension": ".py",
   "mimetype": "text/x-python",
   "name": "python",
   "nbconvert_exporter": "python",
   "pygments_lexer": "ipython3",
   "version": "3.12.11"
  }
 },
 "nbformat": 4,
 "nbformat_minor": 5
}
