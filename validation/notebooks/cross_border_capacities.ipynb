{
 "cells": [
  {
   "cell_type": "markdown",
   "id": "bb3afc1e",
   "metadata": {},
   "source": [
    "# Cross Border Capacities"
   ]
  },
  {
   "cell_type": "markdown",
   "id": "3a6b8e80",
   "metadata": {},
   "source": [
    "## Load Ember and Pypsa-Eur Data "
   ]
  },
  {
   "cell_type": "code",
   "execution_count": null,
   "id": "2abd40e9",
   "metadata": {},
   "outputs": [],
   "source": [
    "import pandas as pd\n",
    "import pypsa\n",
    "import matplotlib.pyplot as plt\n",
    "\n",
    "n = pypsa.Network(\".../results/validation_2023/networks/base_s_39__79seg_2025.nc\")\n",
    "df = pd.read_csv(\".../validation/ember_data/ntc.csv\")\n"
   ]
  },
  {
   "cell_type": "markdown",
   "id": "47743672",
   "metadata": {},
   "source": [
    "## Process Ember Data"
   ]
  },
  {
   "cell_type": "code",
   "execution_count": null,
   "id": "a048a9fb",
   "metadata": {},
   "outputs": [],
   "source": [
    "iso3_to_iso2 = {\n",
    "    'ALB': 'AL', 'AUT': 'AT', 'BEL': 'BE', 'BGR': 'BG', 'BIH': 'BA',\n",
    "    'CHE': 'CH', 'CYP': 'CY', 'CZE': 'CZ', 'DEU': 'DE', 'DNK': 'DK',\n",
    "    'DZA': 'DZ', 'EGY': 'EG', 'ESP': 'ES', 'EST': 'EE', 'FIN': 'FI',\n",
    "    'FRA': 'FR', 'GBR': 'GB', 'GRC': 'GR', 'HRV': 'HR', 'HUN': 'HU',\n",
    "    'IRL': 'IE', 'ISR': 'IL', 'ITA': 'IT', 'LBY': 'LY', 'LTU': 'LT',\n",
    "    'LUX': 'LU', 'LVA': 'LV', 'MAR': 'MA', 'MDA': 'MD', 'MKD': 'MK',\n",
    "    'MLT': 'MT', 'MNE': 'ME', 'NLD': 'NL', 'NOR': 'NO', 'POL': 'PL',\n",
    "    'PRT': 'PT', 'PSE': 'PS', 'ROU': 'RO', 'RUS': 'RU', 'SAU': 'SA',\n",
    "    'SRB': 'RS', 'SVK': 'SK', 'SVN': 'SI', 'SWE': 'SE', 'TUN': 'TN',\n",
    "    'TUR': 'TR', 'UKR': 'UA', 'XKX': 'XK'\n",
    "}\n",
    "df['source'] = df['source_country_code'].map(iso3_to_iso2)\n",
    "df['target'] = df['target_country_code'].map(iso3_to_iso2)\n",
    "df = df.dropna(subset=['source', 'target'])\n",
    "df['c1'] = df[['source', 'target']].min(axis=1)\n",
    "df['c2'] = df[['source', 'target']].max(axis=1)\n",
    "ntc_df = df.groupby(['c1', 'c2'])['NTC_2030_MW'].mean().round().astype(int).reset_index()"
   ]
  },
  {
   "cell_type": "markdown",
   "id": "98c78d26",
   "metadata": {},
   "source": [
    "## Process Pypsa-Eur Data "
   ]
  },
  {
   "cell_type": "code",
   "execution_count": null,
   "id": "b6860019",
   "metadata": {},
   "outputs": [],
   "source": [
    "lines = n.lines.copy()\n",
    "lines['country0'] = lines['bus0'].map(n.buses['country'])\n",
    "lines['country1'] = lines['bus1'].map(n.buses['country'])\n",
    "cross_lines = lines.query(\"country0 != country1\")\n",
    "cross_lines['c1'] = cross_lines[['country0', 'country1']].min(axis=1)\n",
    "cross_lines['c2'] = cross_lines[['country0', 'country1']].max(axis=1)\n",
    "line_caps = cross_lines.groupby(['c1', 'c2'])['s_nom'].sum()\n",
    "links = n.links.copy()\n",
    "links['country0'] = links['bus0'].map(n.buses['country'])\n",
    "links['country1'] = links['bus1'].map(n.buses['country'])\n",
    "cross_links = links.query(\"country0 != country1\")\n",
    "cross_links_dc = cross_links.query(\"carrier == 'DC'\")\n",
    "cross_links_dc['c1'] = cross_links_dc[['country0', 'country1']].min(axis=1)\n",
    "cross_links_dc['c2'] = cross_links_dc[['country0', 'country1']].max(axis=1)\n",
    "link_caps = cross_links_dc.groupby(['c1', 'c2'])['p_nom'].sum()"
   ]
  },
  {
   "cell_type": "markdown",
   "id": "bc50d70d",
   "metadata": {},
   "source": [
    "## Merge"
   ]
  },
  {
   "cell_type": "code",
   "execution_count": null,
   "id": "939e4bdb",
   "metadata": {},
   "outputs": [],
   "source": [
    "total_caps = line_caps.add(link_caps, fill_value=0)\n",
    "total_caps = total_caps.round()\n",
    "total_caps = total_caps.astype(int)\n",
    "ntc_pairs = ntc_df[['c1', 'c2']]\n",
    "total_caps_pairs = total_caps.reset_index()[['c1', 'c2']]\n",
    "\n",
    "all_pairs = pd.concat([ntc_pairs, total_caps_pairs])\n",
    "all_pairs = all_pairs.drop_duplicates()\n",
    "all_pairs = all_pairs.sort_values(['c1', 'c2'])\n",
    "\n",
    "df_comp = all_pairs.merge(ntc_df, on=['c1', 'c2'], how='left')\n",
    "df_comp = df_comp.fillna(0)\n",
    "\n",
    "total_caps_df = total_caps.reset_index()\n",
    "total_caps_df = total_caps_df.rename(columns={0: 'PyPSA_MW'})\n",
    "df_comp = df_comp.merge(total_caps_df, on=['c1', 'c2'], how='left')\n",
    "df_comp = df_comp.fillna(0)\n",
    "focus_iso2 = ['CZ', 'DE', 'GR', 'IT', 'NL', 'PL']\n",
    "df_comp = df_comp.query('c1 in @focus_iso2 | c2 in @focus_iso2')\n",
    "def adjust_row(row):\n",
    "    if row['PyPSA_MW'] > 1.99 * row['NTC_2030_MW']:\n",
    "        return row['PyPSA_MW'] / 2\n",
    "    else:\n",
    "        return row['PyPSA_MW']\n",
    "df_comp['PyPSA_MW'] = df_comp.apply(adjust_row, axis=1)\n",
    "df_comp = df_comp.query('NTC_2030_MW > 0 & PyPSA_MW > 0')\n",
    "df_comp.to_csv('comparison.csv', index=False)"
   ]
  },
  {
   "cell_type": "markdown",
   "id": "dd92e6b6",
   "metadata": {},
   "source": [
    "##"
   ]
  },
  {
   "cell_type": "markdown",
   "id": "6d5d6a0c",
   "metadata": {},
   "source": [
    "## Plot "
   ]
  },
  {
   "cell_type": "code",
   "execution_count": null,
   "id": "93b94b66",
   "metadata": {},
   "outputs": [],
   "source": [
    "\n",
    "df_comp['Pair'] = df_comp['c1'] + '-' + df_comp['c2']\n",
    "fig, ax = plt.subplots(figsize=(20, 8))\n",
    "x = range(len(df_comp))\n",
    "width = 0.35\n",
    "ax.bar([p - width/2 for p in x], df_comp['NTC_2030_MW'], width, label='NTC 2030 Avg')\n",
    "ax.bar([p + width/2 for p in x], df_comp['PyPSA_MW'], width, label='PyPSA')\n",
    "ax.set_ylabel('MW')\n",
    "ax.set_title('Comparison of NTC and PyPSA Capacities')\n",
    "ax.set_xticks(x)\n",
    "ax.set_xticklabels(df_comp['Pair'], rotation=90)\n",
    "ax.legend()\n",
    "plt.tight_layout()\n",
    "plt.savefig('comparison_bar.png')\n",
    "plt.show()"
   ]
  }
 ],
 "metadata": {
  "kernelspec": {
   "display_name": "pypsa-eur",
   "language": "python",
   "name": "python3"
  },
  "language_info": {
   "codemirror_mode": {
    "name": "ipython",
    "version": 3
   },
   "file_extension": ".py",
   "mimetype": "text/x-python",
   "name": "python",
   "nbconvert_exporter": "python",
   "pygments_lexer": "ipython3",
   "version": "3.12.11"
  }
 },
 "nbformat": 4,
 "nbformat_minor": 5
}
