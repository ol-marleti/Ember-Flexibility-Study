{
 "cells": [
  {
   "cell_type": "code",
   "execution_count": null,
   "id": "80842891-fa74-437b-b060-b924c85b4e31",
   "metadata": {},
   "outputs": [],
   "source": [
    "import pypsa"
   ]
  },
  {
   "cell_type": "code",
   "execution_count": null,
   "id": "46aa88d1-a1a7-4ef8-b248-c15325f40c45",
   "metadata": {},
   "outputs": [],
   "source": [
    "# n = pypsa.Network(\"../../results/validation_2023/networks/base_s_39__100seg_2025.nc\")\n",
    "n = pypsa.Network(\"../../resources/validation_2023/networks/base_s_39___2025.nc\")"
   ]
  },
  {
   "cell_type": "markdown",
   "id": "5618f717-bd71-4244-8973-8196d2b17737",
   "metadata": {},
   "source": [
    "e_nom (\"size of tank\") = number_cars * bev_energy * bev_dsm_availability * land_transport_electric_share"
   ]
  },
  {
   "cell_type": "code",
   "execution_count": null,
   "id": "89c7d5f8-5151-4980-9829-2e3b9abfcf77",
   "metadata": {},
   "outputs": [],
   "source": [
    "ev_battery = n.stores.query(\"carrier == 'EV battery'\").index\n",
    "n.stores.loc[ev_battery].head()"
   ]
  },
  {
   "cell_type": "markdown",
   "id": "e0d552b6-311e-4f73-850c-4983f396af6e",
   "metadata": {},
   "source": [
    "e_min_pu (\"minimum per unit charge\"), a periodic timeseries"
   ]
  },
  {
   "cell_type": "code",
   "execution_count": null,
   "id": "bf872730-2210-41f2-9512-248682b43c0b",
   "metadata": {},
   "outputs": [],
   "source": [
    "n.stores_t.e_min_pu.iloc[0:24*7][list(ev_battery[0:4])].plot()"
   ]
  },
  {
   "cell_type": "markdown",
   "id": "fb53f292-8e4a-43fd-a601-470260cc5b60",
   "metadata": {},
   "source": [
    "multiplied with the \"tank size\", this is the resulting \"minimum charge\" - still a periodic timeseries"
   ]
  },
  {
   "cell_type": "code",
   "execution_count": null,
   "id": "6408630c-8df3-407c-ba70-bdfc5b2b06dd",
   "metadata": {},
   "outputs": [],
   "source": [
    "((n.stores_t.e_min_pu.multiply(n.stores.e_nom)).iloc[0:24*7][list(ev_battery[0:4])]).plot()"
   ]
  },
  {
   "cell_type": "markdown",
   "id": "89162f3d-f15f-4116-b60e-1e227867aa60",
   "metadata": {},
   "source": [
    "exemplary demand for BEVs - timeseries"
   ]
  },
  {
   "cell_type": "code",
   "execution_count": null,
   "id": "8678e5db-d2f2-4bfd-8d2d-7fdf62aec601",
   "metadata": {},
   "outputs": [],
   "source": [
    "ev_load = n.loads.query(\"carrier == 'land transport EV'\").index\n",
    "n.loads_t.p_set.multiply(n.snapshot_weightings.generators,axis=0)[list(ev_load[0:3])].iloc[0:24*5].plot()"
   ]
  },
  {
   "cell_type": "markdown",
   "id": "df9dac02-63ca-426d-97a0-6d96faeb087f",
   "metadata": {},
   "source": [
    "p_nom (\"how many MW can be charged within a single hour\") = number_cars * bev_charge_rate * land_transport_electric_share"
   ]
  },
  {
   "cell_type": "code",
   "execution_count": null,
   "id": "a289fa9a-3ec7-441f-a1c4-6185e4e709e6",
   "metadata": {},
   "outputs": [],
   "source": [
    "bev_charge = n.links.query(\"carrier == 'BEV charger'\").index\n",
    "n.links.loc[bev_charge].head()"
   ]
  },
  {
   "cell_type": "markdown",
   "id": "4995c145-3e0a-463a-b4f4-f094e9f5481d",
   "metadata": {},
   "source": [
    "p_max_pu (\"cannot charge more than this per unit value\") = avail_max - (avail_max - avail_mean) * (traffic - traffic.min()) / (traffic.mean() - traffic.min())\n",
    "> linear scaling, highest when traffic is lowest, decreases if traffic increases"
   ]
  },
  {
   "cell_type": "code",
   "execution_count": null,
   "id": "79f4c204-e4f5-4172-b011-27c9bc76bbcf",
   "metadata": {},
   "outputs": [],
   "source": [
    "n.links_t.p_max_pu[bev_charge].iloc[0:24*7][list(bev_charge[0:4])].plot()"
   ]
  },
  {
   "cell_type": "markdown",
   "id": "472b53ed-59d8-491a-9de4-9476cec92e7c",
   "metadata": {},
   "source": [
    "multiplied with the charging capacity (p_nom), this results in the \"maximum MWh increase\""
   ]
  },
  {
   "cell_type": "code",
   "execution_count": null,
   "id": "f794b461-832f-4fb7-875a-1732b13ce2ad",
   "metadata": {},
   "outputs": [],
   "source": [
    "n.links_t.p_max_pu.multiply(n.links.p_nom,axis=1)[bev_charge].iloc[0:24*7][list(bev_charge[0:4])].plot()"
   ]
  },
  {
   "cell_type": "markdown",
   "id": "fe28f8fb-5af9-4524-9287-6534c8a6e08f",
   "metadata": {},
   "source": [
    "if v2g is enabled, an additional link is added that goes from the EV to the LV grid (we assume all EVs are charged at LV)\n",
    "\n",
    "p_nom (\"capacity\") = number_cars * bev_charge_rate * electric_share * bev_dsm_availability"
   ]
  },
  {
   "cell_type": "code",
   "execution_count": null,
   "id": "f9e0eb6d-20fb-41c1-ba05-0caf8c1a48c6",
   "metadata": {},
   "outputs": [],
   "source": [
    "v2g = n.links.query(\"carrier == 'V2G'\").index\n",
    "n.links.loc[v2g].head()"
   ]
  },
  {
   "cell_type": "markdown",
   "id": "e53246d5-111e-4157-b31c-bbb375e45c2a",
   "metadata": {},
   "source": [
    "per unit availability is the same as for v2g (basically they can dms or v2g when plugged into the grid)"
   ]
  },
  {
   "cell_type": "code",
   "execution_count": null,
   "id": "c1df2efb-22f0-4aba-b455-9af607f8d3d4",
   "metadata": {},
   "outputs": [],
   "source": [
    "n.links_t.p_max_pu[v2g].iloc[0:24*7][list(v2g[0:3])].plot()"
   ]
  },
  {
   "cell_type": "markdown",
   "id": "b889c998-504e-40cb-97f0-6a837fbdd1a7",
   "metadata": {},
   "source": [
    "absolute v2g contribution is lower than dsm though, depending on the \"bev_dsm_availability\" parameter"
   ]
  },
  {
   "cell_type": "code",
   "execution_count": null,
   "id": "7a31ec2a-2cbd-48e5-849f-8daf45cbced8",
   "metadata": {},
   "outputs": [],
   "source": [
    "n.links_t.p_max_pu.multiply(n.links.p_nom)[v2g].iloc[0:24*7][list(v2g[0:3])].plot()"
   ]
  },
  {
   "cell_type": "code",
   "execution_count": null,
   "id": "9bf4373d-ab4f-43c8-97d4-2a1765961289",
   "metadata": {},
   "outputs": [],
   "source": []
  }
 ],
 "metadata": {
  "kernelspec": {
   "display_name": "Python 3 (ipykernel)",
   "language": "python",
   "name": "python3"
  },
  "language_info": {
   "codemirror_mode": {
    "name": "ipython",
    "version": 3
   },
   "file_extension": ".py",
   "mimetype": "text/x-python",
   "name": "python",
   "nbconvert_exporter": "python",
   "pygments_lexer": "ipython3",
   "version": "3.12.11"
  }
 },
 "nbformat": 4,
 "nbformat_minor": 5
}
